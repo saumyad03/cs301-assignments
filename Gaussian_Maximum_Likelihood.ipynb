{
  "nbformat": 4,
  "nbformat_minor": 0,
  "metadata": {
    "colab": {
      "provenance": []
    },
    "kernelspec": {
      "name": "python3",
      "display_name": "Python 3"
    },
    "language_info": {
      "name": "python"
    }
  },
  "cells": [
    {
      "cell_type": "markdown",
      "source": [
        "## Question 1a: MLE of a Gaussian $$p_{model}(x|w)$$"
      ],
      "metadata": {
        "id": "P8b2BB61BwRF"
      }
    },
    {
      "cell_type": "code",
      "source": [
        "# given data\n",
        "data = [4, 5, 7, 8, 8, 9, 10, 5, 2, 3, 5, 4, 8, 9]\n",
        "# normal gradient descent algorithm is used\n",
        "eta = 0.001 # learning rate\n",
        "epochs = 100000 # iterations of algorithm - the loss function is calculated and the parameters are reassigned this many times\n",
        "m = len(data) # amount of data we have\n",
        "# hypothesized generating parameters (starting point for algorithm) for gaussian process that generates parameters\n",
        "mean = 0\n",
        "variance = 1\n",
        "for epoch in range(epochs):\n",
        "  # This part of the algorithm calculates the partial derivative of the log likelihood function\n",
        "  # with respect to the two parameters (mean and variance)\n",
        "  diff_sum = 0\n",
        "  diff_square_sum = 0\n",
        "  for num in data: # iteration through the data to calculate the summation parts of each formula\n",
        "    diff_sum += (num - mean)\n",
        "    diff_square_sum += ((num - mean)**2)\n",
        "  # final partial derivatives\n",
        "  D_m = diff_sum / variance\n",
        "  D_v = (1/2/variance)*(-m + diff_square_sum/variance)\n",
        "  # reassigning parameters based on the results of the partial derivative and the hyperparameter, the learning rate\n",
        "  mean = mean + eta * D_m\n",
        "  variance = variance + eta * D_v\n",
        "print(\"Mean: \", mean, \"\\nVariance: \", variance) # prints parameters generated using gradient descent algorithm\n",
        "print(\"Actual Mean: \", np.mean(data), \"\\nActual Variance: \", np.var(data)) # prints the computed values using given data\n",
        "# Summary:\n",
        "# I set the learning rate to a small number and epochs to a large number for precision\n",
        "# I set arbitrary values for the guess as to what the mean and variance (hypothesis)\n",
        "# I repeated the following indented steps for the number of epochs that were set\n",
        "    # I calculated the partial derivative of the log liklihood function with resepct\n",
        "    # to the mean and the variance; the formulas from the provided article were used\n",
        "    # Utilizing this partial derivative and the learning rate, I recalculated and\n",
        "    # reassigned the parameter values\n",
        "# I  printed out the generated parameters and the actual computed values"
      ],
      "metadata": {
        "colab": {
          "base_uri": "https://localhost:8080/"
        },
        "id": "0CO0_0NMB726",
        "outputId": "7dcad1b4-78c4-4ec5-d78e-0d400c12328e"
      },
      "execution_count": null,
      "outputs": [
        {
          "output_type": "stream",
          "name": "stdout",
          "text": [
            "Mean:  6.214285714285531 \n",
            "Variance:  5.882653059912462\n",
            "Actual Mean:  6.214285714285714 \n",
            "Actual Variance:  5.882653061224489\n"
          ]
        }
      ]
    },
    {
      "cell_type": "markdown",
      "source": [
        "## Question 2: MLE of Conditional Gaussian $$p_{model}(y|x,w)$$\n"
      ],
      "metadata": {
        "id": "7_RRN0jtysuq"
      }
    },
    {
      "cell_type": "code",
      "source": [
        "# importing libraries\n",
        "import numpy as np\n",
        "import matplotlib.pyplot as plt\n",
        "# given data\n",
        "x = np.array([8, 16, 22, 33, 50, 51])\n",
        "y = np.array([5, 20, 14, 32, 42, 58])\n",
        "# normal gradient descent algorithm is used\n",
        "eta = 0.0001 # learning rate\n",
        "epochs = 100000 # iterations of algorithm\n",
        "m = len(x) # amount of examples we have\n",
        "# initial hypotheses for parameters\n",
        "w1 = 0\n",
        "w2 = 0\n",
        "for epoch in range(epochs):\n",
        "  # predicted output using current parameters\n",
        "  y_hat = w1*x + w2\n",
        "  # partial derivatives with respect to each parameter\n",
        "  D_w1 = (-2/m) * sum(x * (y - y_hat))\n",
        "  D_w2 = (-2/m) * sum(y - y_hat)\n",
        "  # updating parameters\n",
        "  w1 = w1 - eta * D_w1\n",
        "  w2 = w2 - eta * D_w2\n",
        "final_y_hat = w1 * x + w2 # predicted output using model parameters\n",
        "# plotting given data\n",
        "plt.xlabel(\"x\")\n",
        "plt.ylabel(\"y\", rotation=0)\n",
        "plt.grid()\n",
        "plt.plot(x, y, \"b.\") # plots given data\n",
        "plt.plot(x, final_y_hat) # plots predicted output\n",
        "plt.plot()\n",
        "plt.show()\n",
        "print(\"w1: \", w1, \"\\nw2: \", w2) # prints parameters"
      ],
      "metadata": {
        "colab": {
          "base_uri": "https://localhost:8080/",
          "height": 316
        },
        "id": "noLq7muWy0Y0",
        "outputId": "8687971e-deae-466a-a88b-ab2c9e7af781"
      },
      "execution_count": 126,
      "outputs": [
        {
          "output_type": "display_data",
          "data": {
            "text/plain": [
              "<Figure size 432x288 with 1 Axes>"
            ],
            "image/png": "[encoded data removed]"
          },
          "metadata": {
            "needs_background": "light"
          }
        },
        {
          "output_type": "stream",
          "name": "stdout",
          "text": [
            "w1:  1.035678460487869 \n",
            "w2:  -2.5640895564215374\n"
          ]
        }
      ]
    }
  ]
}