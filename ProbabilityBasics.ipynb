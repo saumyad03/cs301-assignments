{
  "nbformat": 4,
  "nbformat_minor": 0,
  "metadata": {
    "colab": {
      "provenance": [],
      "toc_visible": true
    },
    "kernelspec": {
      "name": "python3",
      "display_name": "Python 3"
    },
    "language_info": {
      "name": "python"
    }
  },
  "cells": [
    {
      "cell_type": "markdown",
      "source": [
        "# Probability Assignment\n",
        "\n"
      ],
      "metadata": {
        "id": "gBqOiqatHb9W"
      }
    },
    {
      "cell_type": "markdown",
      "source": [
        "## Question 1a"
      ],
      "metadata": {
        "id": "wdx_gEpeHguN"
      }
    },
    {
      "cell_type": "markdown",
      "source": [
        "$$p=\\frac{1}{2}$$\n",
        "$$q=1-p=1-\\frac{1}{2}=\\frac{1}{2}$$\n",
        "$$n=50$$\n",
        "$$y \\sim B(n,p)$$\n",
        "$$P(y=k) = {n \\choose k} p^k q^{n-k}$$\n",
        "$$P(y=25)={50 \\choose 25} (\\frac{1}{2}^{25}) (\\frac{1}{2}^{50-25})=0.1123$$"
      ],
      "metadata": {
        "id": "UIYxA9_lHea2"
      }
    },
    {
      "cell_type": "markdown",
      "source": [
        "## Question 1b"
      ],
      "metadata": {
        "id": "QZeHtSS65mf-"
      }
    },
    {
      "cell_type": "markdown",
      "source": [
        "$$p=\\frac{1}{2}$$\n",
        "$$q=1-p=1-\\frac{1}{2}=\\frac{1}{2}$$\n",
        "$$n=50$$\n",
        "$$y \\sim B(n,p)$$\n",
        "$$\\mu=np=50(\\frac{1}{2})=25$$\n",
        "$$\\sigma^2=np(1-p)=50(\\frac{1}{2})(1-\\frac{1}{2})=12.5$$\n",
        "$$z \\sim N(0,1)$$\n",
        "$$P(y=25)\\approx P(z<\\frac{25.5-25}{\\sqrt{12.5}})-P(z<\\frac{24.5-25}{\\sqrt{12.5}})=P(z<0.1414)-P(z<-0.1414)=0.5561-0.4439=0.1122$$"
      ],
      "metadata": {
        "id": "HkQO0Op15yfG"
      }
    },
    {
      "cell_type": "markdown",
      "source": [
        "## Question 2"
      ],
      "metadata": {
        "id": "eMTw5b5gHua-"
      }
    },
    {
      "cell_type": "markdown",
      "source": [
        "$$P(H0011)=(\\frac{1}{2})(\\frac{1}{3})(\\frac{1}{3})(\\frac{2}{3})(\\frac{1}{6})=\\frac{1}{162}$$\n",
        "$$P(T0011)=(\\frac{1}{2})(\\frac{5}{6})(\\frac{1}{3})(\\frac{2}{3})(\\frac{1}{6})=\\frac{5}{324}$$\n",
        "$$P(0011)=P(H0011)+P(T0011)=\\frac{7}{324}=0.0216$$"
      ],
      "metadata": {
        "id": "855Tyv58HxmN"
      }
    },
    {
      "cell_type": "markdown",
      "source": [
        "## Question 3"
      ],
      "metadata": {
        "id": "H4pKscYiHzkN"
      }
    },
    {
      "cell_type": "code",
      "source": [
        "# importing libraries\n",
        "import numpy as np\n",
        "import matplotlib.pyplot as plt\n",
        "# setting means and covariance matrix for bivariate distribution to numbers provided by the textbook\n",
        "m = [0,2]\n",
        "c = [[0.3,-1],[-1,5]]\n",
        "# generates matrix by simulating drawing 200 samples from a bivariate distribution with the above parameters\n",
        "output = np.random.default_rng().multivariate_normal(m, c, 100)\n",
        "# retrieves transpose of matrix, assigning all the x values to one array and y values to another\n",
        "x, y = output.T\n",
        "# plots and shows the generated data, using dots to represent data points and automatically scaling the plot\n",
        "plt.plot(x,  y, '.')\n",
        "plt.xlabel('x1')\n",
        "plt.ylabel('x2')\n",
        "plt.axis('auto')\n",
        "plt.show()"
      ],
      "metadata": {
        "colab": {
          "base_uri": "https://localhost:8080/",
          "height": 279
        },
        "id": "x3hAmxLPH2WG",
        "outputId": "3f9cf26e-f829-43a7-dbe6-779ca722d4f0"
      },
      "execution_count": 65,
      "outputs": [
        {
          "output_type": "display_data",
          "data": {
            "text/plain": [
              "<Figure size 432x288 with 1 Axes>"
            ],
            "image/png": "[encoded data removed]"
          },
          "metadata": {
            "needs_background": "light"
          }
        }
      ]
    },
    {
      "cell_type": "markdown",
      "source": [
        "## Question 4"
      ],
      "metadata": {
        "id": "FjQ2pbxVH8Vl"
      }
    },
    {
      "cell_type": "code",
      "source": [
        "# importing library\n",
        "from google.colab import files\n",
        "# allows for upload of Kaggle csv file\n",
        "uploaded = files.upload()"
      ],
      "metadata": {
        "colab": {
          "base_uri": "https://localhost:8080/",
          "height": 73
        },
        "id": "DEMKszSwH9uA",
        "outputId": "0aa4166a-3db3-4390-88fe-e008ec292727"
      },
      "execution_count": 7,
      "outputs": [
        {
          "output_type": "display_data",
          "data": {
            "text/plain": [
              "<IPython.core.display.HTML object>"
            ],
            "text/html": [
              "\n",
              "     <input type=\"file\" id=\"files-38dd4ecb-077d-410e-8f19-71f19f1bb209\" name=\"files[]\" multiple disabled\n",
              "        style=\"border:none\" />\n",
              "     <output id=\"result-38dd4ecb-077d-410e-8f19-71f19f1bb209\">\n",
              "      Upload widget is only available when the cell has been executed in the\n",
              "      current browser session. Please rerun this cell to enable.\n",
              "      </output>\n",
              "      <script>// Copyright 2017 Google LLC\n",
              "//\n",
              "// Licensed under the Apache License, Version 2.0 (the \"License\");\n",
              "// you may not use this file except in compliance with the License.\n",
              "// You may obtain a copy of the License at\n",
              "//\n",
              "//      http://www.apache.org/licenses/LICENSE-2.0\n",
              "//\n",
              "// Unless required by applicable law or agreed to in writing, software\n",
              "// distributed under the License is distributed on an \"AS IS\" BASIS,\n",
              "// WITHOUT WARRANTIES OR CONDITIONS OF ANY KIND, either express or implied.\n",
              "// See the License for the specific language governing permissions and\n",
              "// limitations under the License.\n",
              "\n",
              "/**\n",
              " * @fileoverview Helpers for google.colab Python module.\n",
              " */\n",
              "(function(scope) {\n",
              "function span(text, styleAttributes = {}) {\n",
              "  const element = document.createElement('span');\n",
              "  element.textContent = text;\n",
              "  for (const key of Object.keys(styleAttributes)) {\n",
              "    element.style[key] = styleAttributes[key];\n",
              "  }\n",
              "  return element;\n",
              "}\n",
              "\n",
              "// Max number of bytes which will be uploaded at a time.\n",
              "const MAX_PAYLOAD_SIZE = 100 * 1024;\n",
              "\n",
              "function _uploadFiles(inputId, outputId) {\n",
              "  const steps = uploadFilesStep(inputId, outputId);\n",
              "  const outputElement = document.getElementById(outputId);\n",
              "  // Cache steps on the outputElement to make it available for the next call\n",
              "  // to uploadFilesContinue from Python.\n",
              "  outputElement.steps = steps;\n",
              "\n",
              "  return _uploadFilesContinue(outputId);\n",
              "}\n",
              "\n",
              "// This is roughly an async generator (not supported in the browser yet),\n",
              "// where there are multiple asynchronous steps and the Python side is going\n",
              "// to poll for completion of each step.\n",
              "// This uses a Promise to block the python side on completion of each step,\n",
              "// then passes the result of the previous step as the input to the next step.\n",
              "function _uploadFilesContinue(outputId) {\n",
              "  const outputElement = document.getElementById(outputId);\n",
              "  const steps = outputElement.steps;\n",
              "\n",
              "  const next = steps.next(outputElement.lastPromiseValue);\n",
              "  return Promise.resolve(next.value.promise).then((value) => {\n",
              "    // Cache the last promise value to make it available to the next\n",
              "    // step of the generator.\n",
              "    outputElement.lastPromiseValue = value;\n",
              "    return next.value.response;\n",
              "  });\n",
              "}\n",
              "\n",
              "/**\n",
              " * Generator function which is called between each async step of the upload\n",
              " * process.\n",
              " * @param {string} inputId Element ID of the input file picker element.\n",
              " * @param {string} outputId Element ID of the output display.\n",
              " * @return {!Iterable<!Object>} Iterable of next steps.\n",
              " */\n",
              "function* uploadFilesStep(inputId, outputId) {\n",
              "  const inputElement = document.getElementById(inputId);\n",
              "  inputElement.disabled = false;\n",
              "\n",
              "  const outputElement = document.getElementById(outputId);\n",
              "  outputElement.innerHTML = '';\n",
              "\n",
              "  const pickedPromise = new Promise((resolve) => {\n",
              "    inputElement.addEventListener('change', (e) => {\n",
              "      resolve(e.target.files);\n",
              "    });\n",
              "  });\n",
              "\n",
              "  const cancel = document.createElement('button');\n",
              "  inputElement.parentElement.appendChild(cancel);\n",
              "  cancel.textContent = 'Cancel upload';\n",
              "  const cancelPromise = new Promise((resolve) => {\n",
              "    cancel.onclick = () => {\n",
              "      resolve(null);\n",
              "    };\n",
              "  });\n",
              "\n",
              "  // Wait for the user to pick the files.\n",
              "  const files = yield {\n",
              "    promise: Promise.race([pickedPromise, cancelPromise]),\n",
              "    response: {\n",
              "      action: 'starting',\n",
              "    }\n",
              "  };\n",
              "\n",
              "  cancel.remove();\n",
              "\n",
              "  // Disable the input element since further picks are not allowed.\n",
              "  inputElement.disabled = true;\n",
              "\n",
              "  if (!files) {\n",
              "    return {\n",
              "      response: {\n",
              "        action: 'complete',\n",
              "      }\n",
              "    };\n",
              "  }\n",
              "\n",
              "  for (const file of files) {\n",
              "    const li = document.createElement('li');\n",
              "    li.append(span(file.name, {fontWeight: 'bold'}));\n",
              "    li.append(span(\n",
              "        `(${file.type || 'n/a'}) - ${file.size} bytes, ` +\n",
              "        `last modified: ${\n",
              "            file.lastModifiedDate ? file.lastModifiedDate.toLocaleDateString() :\n",
              "                                    'n/a'} - `));\n",
              "    const percent = span('0% done');\n",
              "    li.appendChild(percent);\n",
              "\n",
              "    outputElement.appendChild(li);\n",
              "\n",
              "    const fileDataPromise = new Promise((resolve) => {\n",
              "      const reader = new FileReader();\n",
              "      reader.onload = (e) => {\n",
              "        resolve(e.target.result);\n",
              "      };\n",
              "      reader.readAsArrayBuffer(file);\n",
              "    });\n",
              "    // Wait for the data to be ready.\n",
              "    let fileData = yield {\n",
              "      promise: fileDataPromise,\n",
              "      response: {\n",
              "        action: 'continue',\n",
              "      }\n",
              "    };\n",
              "\n",
              "    // Use a chunked sending to avoid message size limits. See b/62115660.\n",
              "    let position = 0;\n",
              "    do {\n",
              "      const length = Math.min(fileData.byteLength - position, MAX_PAYLOAD_SIZE);\n",
              "      const chunk = new Uint8Array(fileData, position, length);\n",
              "      position += length;\n",
              "\n",
              "      const base64 = btoa(String.fromCharCode.apply(null, chunk));\n",
              "      yield {\n",
              "        response: {\n",
              "          action: 'append',\n",
              "          file: file.name,\n",
              "          data: base64,\n",
              "        },\n",
              "      };\n",
              "\n",
              "      let percentDone = fileData.byteLength === 0 ?\n",
              "          100 :\n",
              "          Math.round((position / fileData.byteLength) * 100);\n",
              "      percent.textContent = `${percentDone}% done`;\n",
              "\n",
              "    } while (position < fileData.byteLength);\n",
              "  }\n",
              "\n",
              "  // All done.\n",
              "  yield {\n",
              "    response: {\n",
              "      action: 'complete',\n",
              "    }\n",
              "  };\n",
              "}\n",
              "\n",
              "scope.google = scope.google || {};\n",
              "scope.google.colab = scope.google.colab || {};\n",
              "scope.google.colab._files = {\n",
              "  _uploadFiles,\n",
              "  _uploadFilesContinue,\n",
              "};\n",
              "})(self);\n",
              "</script> "
            ]
          },
          "metadata": {}
        },
        {
          "output_type": "stream",
          "name": "stdout",
          "text": [
            "Saving nyc-east-river-bicycle-counts.csv to nyc-east-river-bicycle-counts (1).csv\n"
          ]
        }
      ]
    },
    {
      "cell_type": "code",
      "source": [
        "# importing libraries\n",
        "import pandas as pd\n",
        "import io\n",
        "import matplotlib.pyplot as plt\n",
        "# imports csv file into pandas dataframe\n",
        "df = pd.read_csv(io.BytesIO(uploaded['nyc-east-river-bicycle-counts.csv']))\n",
        "# reassigns dataframe, keepig only relevant columns\n",
        "df = df[['Date', 'Brooklyn Bridge']]\n",
        "df.plot(kind = 'hist')\n",
        "plt.legend('', frameon = False)\n",
        "plt.xlabel('Cyclists Crossing Brooklyn Bridge In A Given Day')\n",
        "plt.ylabel('Occurrences')\n",
        "plt.show()"
      ],
      "metadata": {
        "colab": {
          "base_uri": "https://localhost:8080/",
          "height": 279
        },
        "id": "rpUwtkvGKHvu",
        "outputId": "2a09e284-a0dd-4cae-d8b3-a5bbddab841d"
      },
      "execution_count": 111,
      "outputs": [
        {
          "output_type": "display_data",
          "data": {
            "text/plain": [
              "<Figure size 432x288 with 1 Axes>"
            ],
            "image/png": "[encoded data removed]"
          },
          "metadata": {
            "needs_background": "light"
          }
        }
      ]
    },
    {
      "cell_type": "code",
      "source": [
        "# importing libraries\n",
        "import numpy as np\n",
        "import matplotlib.pyplot as plt\n",
        "# sets lambda parameter value\n",
        "l = 3750\n",
        "# generates matrix by simulating drawing 209 samples from the Poisson distribution with the above parameter\n",
        "output = np.random.default_rng().poisson(l, size=209)\n",
        "# plots histogram of the generated output\n",
        "plt.hist(output)\n",
        "plt.xlabel(\"Cyclists Crossing Brooklyn Bridge In A Given Day\")\n",
        "plt.ylabel"
      ],
      "metadata": {
        "colab": {
          "base_uri": "https://localhost:8080/",
          "height": 296
        },
        "id": "WlnIzLF6UcI9",
        "outputId": "2a28e368-5396-4304-db35-6993a00c6c28"
      },
      "execution_count": 150,
      "outputs": [
        {
          "output_type": "execute_result",
          "data": {
            "text/plain": [
              "<function matplotlib.pyplot.ylabel(ylabel, fontdict=None, labelpad=None, **kwargs)>"
            ]
          },
          "metadata": {},
          "execution_count": 150
        },
        {
          "output_type": "display_data",
          "data": {
            "text/plain": [
              "<Figure size 432x288 with 1 Axes>"
            ],
            "image/png": "[encoded data removed]"
          },
          "metadata": {
            "needs_background": "light"
          }
        }
      ]
    },
    {
      "cell_type": "markdown",
      "source": [
        "## Question 5"
      ],
      "metadata": {
        "id": "g1DA_9UzVya0"
      }
    },
    {
      "cell_type": "code",
      "source": [
        "# LAMBDA = 1\n",
        "# imports libraries\n",
        "import numpy as np\n",
        "import matplotlib.pyplot as plt\n",
        "# chooses a specific lambda for arrival times\n",
        "l = 1\n",
        "m = 4\n",
        "# array to represent queue\n",
        "q = []\n",
        "# functions to generate arrival time and service time\n",
        "def at():\n",
        "  return (np.random.default_rng().poisson(l, 1))[0]\n",
        "def st():\n",
        "  return (np.random.default_rng().exponential(m, 1))[0]\n",
        "# gets time when next request will arrive\n",
        "nextArrival = at()\n",
        "# sets time for when request can be serviced (initially set to 0 since no requests initially serviced)\n",
        "nextService = 0\n",
        "# counter for the amount of jobs completed\n",
        "completed_jobs = 0\n",
        "# captures data points\n",
        "times = [0]\n",
        "requests = [0]\n",
        "\n",
        "# simulates a M/M/1 queue following provided pseudocode\n",
        "while (True):\n",
        "  while nextArrival < nextService:\n",
        "    q.append(nextArrival)\n",
        "    nextArrival += at()\n",
        "    times.append(nextArrival)\n",
        "    requests.append(len(q))\n",
        "  if (len(q) != 0):\n",
        "    a = q.pop(0)\n",
        "    completed_jobs += 1\n",
        "    nextService -= a\n",
        "    times.append(nextArrival)\n",
        "    requests.append(len(q))\n",
        "  if (completed_jobs >= 200):\n",
        "    break\n",
        "  nextService -= a\n",
        "  if (len(q) != 0):\n",
        "    nextService += st()\n",
        "  else:\n",
        "    nextService = nextArrival + st()\n",
        "\n",
        "# plots captured data points\n",
        "plt.plot(times, requests)\n",
        "plt.xlabel('Time')\n",
        "plt.ylabel('Queued Requests')"
      ],
      "metadata": {
        "colab": {
          "base_uri": "https://localhost:8080/",
          "height": 296
        },
        "id": "BtMb94Deeylw",
        "outputId": "7e126e13-adf9-4e98-b4aa-7d7566f989cb"
      },
      "execution_count": 233,
      "outputs": [
        {
          "output_type": "execute_result",
          "data": {
            "text/plain": [
              "Text(0, 0.5, 'Queued Requests')"
            ]
          },
          "metadata": {},
          "execution_count": 233
        },
        {
          "output_type": "display_data",
          "data": {
            "text/plain": [
              "<Figure size 432x288 with 1 Axes>"
            ],
            "image/png": "[encoded data removed]"
          },
          "metadata": {
            "needs_background": "light"
          }
        }
      ]
    },
    {
      "cell_type": "code",
      "source": [
        "# LAMBDA = 2\n",
        "# imports libraries\n",
        "import numpy as np\n",
        "import matplotlib.pyplot as plt\n",
        "# chooses a specific lambda for arrival times\n",
        "l = 2\n",
        "m = 4\n",
        "# array to represent queue\n",
        "q = []\n",
        "# functions to generate arrival time and service time\n",
        "def at():\n",
        "  return (np.random.default_rng().poisson(l, 1))[0]\n",
        "def st():\n",
        "  return (np.random.default_rng().exponential(m, 1))[0]\n",
        "# gets time when next request will arrive\n",
        "nextArrival = at()\n",
        "# sets time for when request can be serviced (initially set to 0 since no requests initially serviced)\n",
        "nextService = 0\n",
        "# counter for the amount of jobs completed\n",
        "completed_jobs = 0\n",
        "# captures data points\n",
        "times = [0]\n",
        "requests = [0]\n",
        "\n",
        "# simulates a M/M/1 queue following provided pseudocode\n",
        "while (True):\n",
        "  while nextArrival < nextService:\n",
        "    q.append(nextArrival)\n",
        "    nextArrival += at()\n",
        "    times.append(nextArrival)\n",
        "    requests.append(len(q))\n",
        "  if (len(q) != 0):\n",
        "    a = q.pop(0)\n",
        "    completed_jobs += 1\n",
        "    nextService -= a\n",
        "    times.append(nextArrival)\n",
        "    requests.append(len(q))\n",
        "  if (completed_jobs >= 200):\n",
        "    break\n",
        "  nextService -= a\n",
        "  if (len(q) != 0):\n",
        "    nextService += st()\n",
        "  else:\n",
        "    nextService = nextArrival + st()\n",
        "\n",
        "# plots captured data points\n",
        "plt.plot(times, requests)\n",
        "plt.xlabel('Time')\n",
        "plt.ylabel('Queued Requests')"
      ],
      "metadata": {
        "colab": {
          "base_uri": "https://localhost:8080/",
          "height": 296
        },
        "id": "ZFvFDWIl3jZ7",
        "outputId": "46c05ac0-d2bb-4b24-bcee-fa931305f96a"
      },
      "execution_count": 240,
      "outputs": [
        {
          "output_type": "execute_result",
          "data": {
            "text/plain": [
              "Text(0, 0.5, 'Queued Requests')"
            ]
          },
          "metadata": {},
          "execution_count": 240
        },
        {
          "output_type": "display_data",
          "data": {
            "text/plain": [
              "<Figure size 432x288 with 1 Axes>"
            ],
            "image/png": "[encoded data removed]"
          },
          "metadata": {
            "needs_background": "light"
          }
        }
      ]
    },
    {
      "cell_type": "code",
      "source": [
        "# LAMBDA = 4\n",
        "# imports libraries\n",
        "import numpy as np\n",
        "import matplotlib.pyplot as plt\n",
        "# chooses a specific lambda for arrival times\n",
        "l = 4\n",
        "m = 4\n",
        "# array to represent queue\n",
        "q = []\n",
        "# functions to generate arrival time and service time\n",
        "def at():\n",
        "  return (np.random.default_rng().poisson(l, 1))[0]\n",
        "def st():\n",
        "  return (np.random.default_rng().exponential(m, 1))[0]\n",
        "# gets time when next request will arrive\n",
        "nextArrival = at()\n",
        "# sets time for when request can be serviced (initially set to 0 since no requests initially serviced)\n",
        "nextService = 0\n",
        "# counter for the amount of jobs completed\n",
        "completed_jobs = 0\n",
        "# captures data points\n",
        "times = [0]\n",
        "requests = [0]\n",
        "\n",
        "# simulates a M/M/1 queue following provided pseudocode\n",
        "while (True):\n",
        "  while nextArrival < nextService:\n",
        "    q.append(nextArrival)\n",
        "    nextArrival += at()\n",
        "    times.append(nextArrival)\n",
        "    requests.append(len(q))\n",
        "  if (len(q) != 0):\n",
        "    a = q.pop(0)\n",
        "    completed_jobs += 1\n",
        "    nextService -= a\n",
        "    times.append(nextArrival)\n",
        "    requests.append(len(q))\n",
        "  if (completed_jobs >= 200):\n",
        "    break\n",
        "  nextService -= a\n",
        "  if (len(q) != 0):\n",
        "    nextService += st()\n",
        "  else:\n",
        "    nextService = nextArrival + st()\n",
        "\n",
        "# plots captured data points\n",
        "plt.plot(times, requests)\n",
        "plt.xlabel('Time')\n",
        "plt.ylabel('Queued Requests')"
      ],
      "metadata": {
        "colab": {
          "base_uri": "https://localhost:8080/",
          "height": 296
        },
        "id": "qdRV5W115Jpu",
        "outputId": "bd498ce2-4b74-4736-97b0-fc861038e995"
      },
      "execution_count": 241,
      "outputs": [
        {
          "output_type": "execute_result",
          "data": {
            "text/plain": [
              "Text(0, 0.5, 'Queued Requests')"
            ]
          },
          "metadata": {},
          "execution_count": 241
        },
        {
          "output_type": "display_data",
          "data": {
            "text/plain": [
              "<Figure size 432x288 with 1 Axes>"
            ],
            "image/png": "[encoded data removed]"
          },
          "metadata": {
            "needs_background": "light"
          }
        }
      ]
    }
  ]
}